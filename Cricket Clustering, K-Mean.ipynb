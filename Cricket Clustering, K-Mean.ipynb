{
 "cells": [
  {
   "cell_type": "code",
   "execution_count": 3,
   "metadata": {},
   "outputs": [
    {
     "name": "stderr",
     "output_type": "stream",
     "text": [
      "<ipython-input-3-119331b3e047>:23: SettingWithCopyWarning: \n",
      "A value is trying to be set on a copy of a slice from a DataFrame\n",
      "\n",
      "See the caveats in the documentation: https://pandas.pydata.org/pandas-docs/stable/user_guide/indexing.html#returning-a-view-versus-a-copy\n",
      "  data.Region[data.Region == 'Central'] = 1\n",
      "<ipython-input-3-119331b3e047>:24: SettingWithCopyWarning: \n",
      "A value is trying to be set on a copy of a slice from a DataFrame\n",
      "\n",
      "See the caveats in the documentation: https://pandas.pydata.org/pandas-docs/stable/user_guide/indexing.html#returning-a-view-versus-a-copy\n",
      "  data.Region[data.Region == 'East'] = 2\n",
      "<ipython-input-3-119331b3e047>:25: SettingWithCopyWarning: \n",
      "A value is trying to be set on a copy of a slice from a DataFrame\n",
      "\n",
      "See the caveats in the documentation: https://pandas.pydata.org/pandas-docs/stable/user_guide/indexing.html#returning-a-view-versus-a-copy\n",
      "  data.Region[data.Region == 'South'] = 3\n",
      "<ipython-input-3-119331b3e047>:26: SettingWithCopyWarning: \n",
      "A value is trying to be set on a copy of a slice from a DataFrame\n",
      "\n",
      "See the caveats in the documentation: https://pandas.pydata.org/pandas-docs/stable/user_guide/indexing.html#returning-a-view-versus-a-copy\n",
      "  data.Region[data.Region == 'West'] = 4\n"
     ]
    }
   ],
   "source": [
    "import numpy as np\n",
    "import matplotlib.pyplot as pit\n",
    "import pandas as pd\n",
    "\n",
    "\n",
    "\n",
    "\n",
    "# dataset[\"Region_Numbers\"]=dataset[\"Region\"]\n",
    "# print(dataset.info())\n",
    "# # print (dataset.head())\n",
    "# print (dataset[\"Region_Numbers\"])\n",
    "# dataset[dataset[\"Region_Numbers\"].isin([\"North\"])]\n",
    "file_handler = open(\"/Users/sunitjadeja/Desktop/Python/Sample.csv\", encoding=\"cp1252\") \n",
    "  \n",
    "# creating a Pandas DataFrame \n",
    "# using read_csv function that \n",
    "# reads from a csv file. \n",
    "data = pd.read_csv(file_handler, sep = \",\") \n",
    "  \n",
    "# closing the file handler \n",
    "file_handler.close()\n",
    "\n",
    "data.Region[data.Region == 'Central'] = 1\n",
    "data.Region[data.Region == 'East'] = 2\n",
    "data.Region[data.Region == 'South'] = 3\n",
    "data.Region[data.Region == 'West'] = 4\n",
    "# print(data)\n",
    "# print (data.info())\n",
    "data.to_csv(\"/Users/sunitjadeja/Desktop/Python/Sample_out3.csv\")"
   ]
  },
  {
   "cell_type": "code",
   "execution_count": 127,
   "metadata": {},
   "outputs": [
    {
     "name": "stdout",
     "output_type": "stream",
     "text": [
      "<class 'pandas.core.frame.DataFrame'>\n",
      "RangeIndex: 9994 entries, 0 to 9993\n",
      "Data columns (total 21 columns):\n",
      " #   Column          Non-Null Count  Dtype  \n",
      "---  ------          --------------  -----  \n",
      " 0   Unnamed: 0      9994 non-null   int64  \n",
      " 1   Order ID        9994 non-null   object \n",
      " 2   Order Date      9994 non-null   object \n",
      " 3   Ship Date       9994 non-null   object \n",
      " 4   Ship Mode       9994 non-null   object \n",
      " 5   Customer Name   9994 non-null   object \n",
      " 6   Segment         9994 non-null   object \n",
      " 7   Country/Region  9994 non-null   object \n",
      " 8   City            9994 non-null   object \n",
      " 9   State           9994 non-null   object \n",
      " 10  Postal Code     9983 non-null   float64\n",
      " 11  Region          9994 non-null   int64  \n",
      " 12  Category        9994 non-null   object \n",
      " 13  Sub-Category    9994 non-null   object \n",
      " 14  Product Name    9994 non-null   object \n",
      " 15  Sales           9994 non-null   object \n",
      " 16  Quantity        9994 non-null   int64  \n",
      " 17  Discount        9994 non-null   float64\n",
      " 18  Profit          9994 non-null   object \n",
      " 19  Profit Ratio    9994 non-null   float64\n",
      " 20  Manufacturer    9994 non-null   object \n",
      "dtypes: float64(3), int64(3), object(15)\n",
      "memory usage: 1.6+ MB\n",
      "None\n"
     ]
    }
   ],
   "source": [
    "import numpy as np\n",
    "import matplotlib.pyplot as pit\n",
    "import pandas as pd\n",
    "df=pandas.read_csv(\"/Users/sunitjadeja/Desktop/Python/Sample_out3.csv\", encoding=\"unicode_escape\")\n",
    "# print(df)\n",
    "print (df.info())\n",
    "# print (df.head())\n",
    "df['Sales']=pandas.to_numeric(df['Sales'] .replace(',', '', regex=True))\n",
    "# x=df.iloc[:,[11,15]].values\n",
    "# print(x)\n",
    "\n",
    "# # print (x.shape)\n",
    "# import pandas\n",
    "\n",
    "# dataset['Region']=pandas.to_numeric(dataset['Region'])"
   ]
  },
  {
   "cell_type": "code",
   "execution_count": 122,
   "metadata": {},
   "outputs": [
    {
     "data": {
      "image/png": "[encoded data removed]",
      "text/plain": [
       "<Figure size 432x288 with 1 Axes>"
      ]
     },
     "metadata": {
      "needs_background": "light"
     },
     "output_type": "display_data"
    }
   ],
   "source": [
    "import pandas\n",
    "import numpy as np\n",
    "import matplotlib.pyplot as pit\n",
    "import pandas as pd\n",
    "\n",
    "from sklearn.cluster import KMeans\n",
    "wcss=[]\n",
    "for i in range(1,11):\n",
    "    kmeans=KMeans(n_clusters=i, init=\"k-means++\", random_state=42)\n",
    "    kmeans.fit(x)\n",
    "    wcss.append(kmeans.inertia_)\n",
    "pit.plot(range(1,11), wcss)\n",
    "pit.title(\"The Elbow Method\")\n",
    "pit.xlabel(\"Number of clusters\")\n",
    "pit.ylabel(\"wcss\")\n",
    "pit.show()"
   ]
  },
  {
   "cell_type": "code",
   "execution_count": 123,
   "metadata": {},
   "outputs": [],
   "source": [
    "#fitting k-means to the dataset\n",
    "kmeans=KMeans(n_clusters=4, init=\"k-means++\", random_state=42)\n",
    "y_kmeans=kmeans.fit_predict(x)"
   ]
  },
  {
   "cell_type": "code",
   "execution_count": 1,
   "metadata": {},
   "outputs": [],
   "source": [
    "# pit.scatter(x[y_kmeans==0,1],x[y_kmeans==0,0], s=40,c=\"red\", label=\"Cluster 1\")\n",
    "# pit.scatter(x[y_kmeans==1,1],x[y_kmeans==1,0], s=40,c=\"blue\", label=\"Cluster 2\")\n",
    "# pit.scatter(x[y_kmeans==2,1],x[y_kmeans==2,0], s=40,c=\"green\", label=\"Cluster 3\")\n",
    "# pit.scatter(x[y_kmeans==3,1],x[y_kmeans==3,0], s=40,c=\"orange\", label=\"Cluster 4\")\n",
    "# pit.scatter(kmeans.cluster_centers_[:, 0], kmeans.cluster_centers_[:, 1], s = 150, c = 'yellow', label = 'Centroids')\n",
    "# pit.title(\"Region & Sales Relationship\")\n",
    "# pit.xlabel(\"Region\")\n",
    "# pit.ylabel(\"Sales\")\n",
    "# pit.legend()\n",
    "# pit.show()"
   ]
  },
  {
   "cell_type": "code",
   "execution_count": 3,
   "metadata": {},
   "outputs": [],
   "source": [
    "import numpy as np\n",
    "import matplotlib.pyplot as pit\n",
    "import pandas as pd\n",
    "df=pd.read_excel(\"/Users/sunitjadeja/Desktop/Python/IPL_Data_For_Clustering.xls\")\n",
    "# print(df.head(2))\n",
    "# print (df.dtypes)\n",
    "# print (df.info)\n",
    "# print (df.describe)\n",
    "# print (df.columns)"
   ]
  },
  {
   "cell_type": "code",
   "execution_count": 8,
   "metadata": {},
   "outputs": [
    {
     "name": "stdout",
     "output_type": "stream",
     "text": [
      "[[134.    16.75]\n",
      " [480.    53.33]\n",
      " [ 63.    63.  ]\n",
      " [370.    28.46]\n",
      " [148.    24.66]\n",
      " [602.    43.  ]\n",
      " [316.    28.72]\n",
      " [ 32.     5.33]\n",
      " [ 80.    13.33]\n",
      " [ 96.    24.  ]\n",
      " [196.    16.33]\n",
      " [ 13.     6.5 ]\n",
      " [127.    21.16]\n",
      " [ 75.    25.  ]\n",
      " [368.    40.88]\n",
      " [491.    32.73]\n",
      " [ 46.    46.  ]\n",
      " [ 17.     8.5 ]\n",
      " [131.    26.2 ]\n",
      " [ 63.    12.6 ]\n",
      " [ 17.     5.66]\n",
      " [115.    16.42]\n",
      " [ 26.    13.  ]\n",
      " [ 74.    37.  ]\n",
      " [ 50.    16.66]\n",
      " [ 87.    21.75]\n",
      " [498.    49.8 ]\n",
      " [141.    35.25]\n",
      " [382.    29.38]\n",
      " [162.    32.4 ]\n",
      " [ 85.    17.  ]\n",
      " [169.    14.08]\n",
      " [ 29.     9.66]\n",
      " [260.    28.88]\n",
      " [ 60.    60.  ]\n",
      " [ 57.    19.  ]\n",
      " [275.    22.91]\n",
      " [120.    30.  ]\n",
      " [ 49.    12.25]\n",
      " [ 15.     3.  ]\n",
      " [548.    54.8 ]\n",
      " [ 36.    36.  ]\n",
      " [735.    52.5 ]\n",
      " [301.    25.08]\n",
      " [ 24.    24.  ]\n",
      " [133.    19.  ]\n",
      " [126.    14.  ]\n",
      " [228.    22.8 ]\n",
      " [659.    54.91]\n",
      " [ 20.    20.  ]\n",
      " [ 55.    13.75]\n",
      " [252.    25.2 ]\n",
      " [284.    25.81]\n",
      " [ 47.    15.66]\n",
      " [ 99.    24.75]\n",
      " [120.    12.  ]\n",
      " [ 21.    10.5 ]\n",
      " [ 16.     8.  ]\n",
      " [ 77.    19.25]\n",
      " [ 18.     9.  ]\n",
      " [ 25.    12.5 ]\n",
      " [455.    75.83]\n",
      " [304.    23.38]\n",
      " [153.    30.6 ]\n",
      " [ 27.     6.75]\n",
      " [245.    27.22]\n",
      " [201.    25.12]\n",
      " [ 50.    16.66]\n",
      " [226.    25.11]\n",
      " [ 59.    11.8 ]\n",
      " [102.    12.75]\n",
      " [ 89.    17.8 ]\n",
      " [ 29.     7.25]\n",
      " [684.    52.61]\n",
      " [351.    21.93]\n",
      " [286.    23.83]\n",
      " [108.    13.5 ]\n",
      " [441.    31.5 ]\n",
      " [ 51.    10.2 ]\n",
      " [239.    21.72]\n",
      " [555.    39.64]\n",
      " [ 15.    15.  ]\n",
      " [497.    38.23]\n",
      " [ 13.     4.33]\n",
      " [ 52.    17.33]\n",
      " [ 50.    16.66]\n",
      " [411.    37.36]\n",
      " [203.    33.83]\n",
      " [ 44.     8.8 ]\n",
      " [357.    22.31]\n",
      " [445.    37.08]\n",
      " [512.    36.57]\n",
      " [ 52.    26.  ]\n",
      " [ 23.     7.66]\n",
      " [212.    53.  ]\n",
      " [530.    48.18]\n",
      " [ 65.    21.66]\n",
      " [122.    15.25]\n",
      " [260.    28.88]\n",
      " [ 65.    10.83]\n",
      " [  0.     0.  ]\n",
      " [  0.     0.  ]\n",
      " [  0.     0.  ]\n",
      " [  0.     0.  ]\n",
      " [  0.     0.  ]\n",
      " [  0.     0.  ]\n",
      " [  0.     0.  ]\n",
      " [  0.     0.  ]\n",
      " [  0.     0.  ]\n",
      " [  0.     0.  ]\n",
      " [  0.     0.  ]\n",
      " [  0.     0.  ]\n",
      " [  0.     0.  ]\n",
      " [  0.     0.  ]\n",
      " [  0.     0.  ]\n",
      " [  0.     0.  ]\n",
      " [  0.     0.  ]\n",
      " [  0.     0.  ]\n",
      " [  0.     0.  ]\n",
      " [  0.     0.  ]\n",
      " [  0.     0.  ]\n",
      " [  0.     0.  ]\n",
      " [  0.     0.  ]\n",
      " [  0.     0.  ]\n",
      " [  0.     0.  ]\n",
      " [  0.     0.  ]\n",
      " [  0.     0.  ]\n",
      " [  0.     0.  ]\n",
      " [  0.     0.  ]\n",
      " [  0.     0.  ]\n",
      " [  0.     0.  ]\n",
      " [  0.     0.  ]\n",
      " [  0.     0.  ]\n",
      " [  0.     0.  ]\n",
      " [  0.     0.  ]\n",
      " [  0.     0.  ]\n",
      " [  0.     0.  ]\n",
      " [  0.     0.  ]\n",
      " [  0.     0.  ]\n",
      " [  0.     0.  ]\n",
      " [  0.     0.  ]\n",
      " [  0.     0.  ]\n",
      " [  0.     0.  ]]\n"
     ]
    }
   ],
   "source": [
    "x=df.iloc[:,[4,6]].values\n",
    "print(x)"
   ]
  },
  {
   "cell_type": "code",
   "execution_count": 9,
   "metadata": {},
   "outputs": [
    {
     "data": {
      "image/png": "[encoded data removed]",
      "text/plain": [
       "<Figure size 432x288 with 1 Axes>"
      ]
     },
     "metadata": {
      "needs_background": "light"
     },
     "output_type": "display_data"
    }
   ],
   "source": [
    "import pandas\n",
    "import numpy as np\n",
    "import matplotlib.pyplot as pit\n",
    "import pandas as pd\n",
    "from sklearn.cluster import KMeans\n",
    "wcss=[]\n",
    "for i in range(1,11):\n",
    "    kmeans=KMeans(n_clusters=i, init=\"k-means++\", random_state=42)\n",
    "    kmeans.fit(x)\n",
    "    wcss.append(kmeans.inertia_)\n",
    "pit.plot(range(1,11), wcss)\n",
    "pit.title(\"The Elbow Method\")\n",
    "pit.xlabel(\"Number of clusters\")\n",
    "pit.ylabel(\"wcss\")\n",
    "pit.show()"
   ]
  },
  {
   "cell_type": "code",
   "execution_count": 10,
   "metadata": {},
   "outputs": [],
   "source": [
    "kmeans=KMeans(n_clusters=5, init=\"k-means++\", random_state=42)\n",
    "y_kmeans=kmeans.fit_predict(x)"
   ]
  },
  {
   "cell_type": "code",
   "execution_count": 11,
   "metadata": {},
   "outputs": [
    {
     "data": {
      "image/png": "[encoded data removed]",
      "text/plain": [
       "<Figure size 432x288 with 1 Axes>"
      ]
     },
     "metadata": {
      "needs_background": "light"
     },
     "output_type": "display_data"
    }
   ],
   "source": [
    "pit.scatter(x[y_kmeans==0,0],x[y_kmeans==0,1], s=700,c=\"red\", label=\"Future-Players\")\n",
    "pit.scatter(x[y_kmeans==1,0],x[y_kmeans==1,1], s=700,c=\"blue\", label=\"Not-Recommended\")\n",
    "pit.scatter(x[y_kmeans==2,0],x[y_kmeans==2,1], s=700,c=\"green\", label=\"Emerging-Players\")\n",
    "pit.scatter(x[y_kmeans==3,0],x[y_kmeans==3,1], s=700,c=\"orange\", label=\"Progressive-Players\")\n",
    "pit.scatter(x[y_kmeans==4,0],x[y_kmeans==4,1], s=700,c=\"black\", label=\"Idol-Player\")\n",
    "pit.scatter(kmeans.cluster_centers_[:, 0], kmeans.cluster_centers_[:, 1], s = 900, c = 'yellow', label = 'Centroids')\n",
    "pit.title(\"Clusters of Players\")\n",
    "pit.xlabel(\"Runs\")\n",
    "pit.ylabel(\"Batting Average\")\n",
    "pit.legend()\n",
    "pit.show()"
   ]
  },
  {
   "cell_type": "code",
   "execution_count": null,
   "metadata": {},
   "outputs": [],
   "source": []
  }
 ],
 "metadata": {
  "kernelspec": {
   "display_name": "Python 3",
   "language": "python",
   "name": "python3"
  },
  "language_info": {
   "codemirror_mode": {
    "name": "ipython",
    "version": 3
   },
   "file_extension": ".py",
   "mimetype": "text/x-python",
   "name": "python",
   "nbconvert_exporter": "python",
   "pygments_lexer": "ipython3",
   "version": "3.8.3"
  }
 },
 "nbformat": 4,
 "nbformat_minor": 4
}
