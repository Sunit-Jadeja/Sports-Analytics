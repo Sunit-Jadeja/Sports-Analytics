{
 "cells": [
  {
   "cell_type": "code",
   "execution_count": 6,
   "metadata": {},
   "outputs": [
    {
     "name": "stdout",
     "output_type": "stream",
     "text": [
      "PLAYER     object\n",
      "Mat.x       int64\n",
      "Inns.x      int64\n",
      "NO          int64\n",
      "Runs.x      int64\n",
      "HS          int64\n",
      "Avg.x     float64\n",
      "BF          int64\n",
      "SR.x      float64\n",
      "X100        int64\n",
      "X50         int64\n",
      "X4s         int64\n",
      "X6s         int64\n",
      "Mat.y       int64\n",
      "Inns.y      int64\n",
      "Ov        float64\n",
      "Runs.y      int64\n",
      "Wkts        int64\n",
      "BBI         int64\n",
      "Avg.y     float64\n",
      "Econ      float64\n",
      "SR.y      float64\n",
      "X4w         int64\n",
      "X5w         int64\n",
      "y           int64\n",
      "dtype: object\n",
      "<bound method DataFrame.info of                PLAYER  Mat.x  Inns.x  NO  Runs.x  HS  Avg.x   BF    SR.x  \\\n",
      "0         Aaron Finch     10       9   1     134  46  16.75  100  134.00   \n",
      "1      AB de Villiers     12      11   2     480  90  53.33  275  174.54   \n",
      "2     Abhishek Sharma      3       3   2      63  46  63.00   33  190.90   \n",
      "3      Ajinkya Rahane     15      14   1     370  65  28.46  313  118.21   \n",
      "4          Alex Hales      6       6   0     148  45  24.66  118  125.42   \n",
      "..                ...    ...     ...  ..     ...  ..    ...  ...     ...   \n",
      "138     Siddarth Kaul      0       0   0       0   0   0.00    0    0.00   \n",
      "139       Trent Boult      0       0   0       0   0   0.00    0    0.00   \n",
      "140       Umesh Yadav      0       0   0       0   0   0.00    0    0.00   \n",
      "141        Vi0y Kumar      0       0   0       0   0   0.00    0    0.00   \n",
      "142  Yuzvendra Chahal      0       0   0       0   0   0.00    0    0.00   \n",
      "\n",
      "     X100  ...    Ov  Runs.y  Wkts  BBI  Avg.y   Econ   SR.y  X4w  X5w  y  \n",
      "0       0  ...   0.0       0     0    0   0.00   0.00   0.00    0    0  0  \n",
      "1       0  ...   0.0       0     0    0   0.00   0.00   0.00    0    0  0  \n",
      "2       0  ...   0.0       0     0    0   0.00   0.00   0.00    0    0  0  \n",
      "3       0  ...   0.0       0     0    0   0.00   0.00   0.00    0    0  0  \n",
      "4       0  ...   0.0       0     0    0   0.00   0.00   0.00    0    0  0  \n",
      "..    ...  ...   ...     ...   ...  ...    ...    ...    ...  ...  ... ..  \n",
      "138     0  ...  66.0     547    21    0  26.04   8.28  18.85    0    0  0  \n",
      "139     0  ...  52.4     466    18    0  25.88   8.84  17.55    0    0  0  \n",
      "140     0  ...  53.1     418    20    0  20.90   7.86  15.95    0    0  0  \n",
      "141     0  ...   3.5      65     2    0  32.50  16.95  11.50    0    0  0  \n",
      "142     0  ...  50.0     363    12    0  30.25   7.26  25.00    0    0  0  \n",
      "\n",
      "[143 rows x 25 columns]>\n",
      "Index(['PLAYER', 'Mat.x', 'Inns.x', 'NO', 'Runs.x', 'HS', 'Avg.x', 'BF',\n",
      "       'SR.x', 'X100', 'X50', 'X4s', 'X6s', 'Mat.y', 'Inns.y', 'Ov', 'Runs.y',\n",
      "       'Wkts', 'BBI', 'Avg.y', 'Econ', 'SR.y', 'X4w', 'X5w', 'y'],\n",
      "      dtype='object')\n"
     ]
    }
   ],
   "source": [
    "import numpy as np\n",
    "import matplotlib.pyplot as pit\n",
    "import pandas as pd\n",
    "df=pd.read_excel(\"/Users/sunitjadeja/Desktop/Python/IPL_Data_For_Clustering.xls\")\n",
    "# print(df.head(16))\n",
    "print (df.dtypes)\n",
    "print (df.info)\n",
    "# print (df.describe)\n",
    "print (df.columns)"
   ]
  },
  {
   "cell_type": "code",
   "execution_count": 7,
   "metadata": {},
   "outputs": [
    {
     "name": "stdout",
     "output_type": "stream",
     "text": [
      "[[134.    16.75]\n",
      " [480.    53.33]\n",
      " [ 63.    63.  ]\n",
      " [370.    28.46]\n",
      " [148.    24.66]\n",
      " [602.    43.  ]\n",
      " [316.    28.72]\n",
      " [ 32.     5.33]\n",
      " [ 80.    13.33]\n",
      " [ 96.    24.  ]\n",
      " [196.    16.33]\n",
      " [ 13.     6.5 ]\n",
      " [127.    21.16]\n",
      " [ 75.    25.  ]\n",
      " [368.    40.88]\n",
      " [491.    32.73]\n",
      " [ 46.    46.  ]\n",
      " [ 17.     8.5 ]\n",
      " [131.    26.2 ]\n",
      " [ 63.    12.6 ]\n",
      " [ 17.     5.66]\n",
      " [115.    16.42]\n",
      " [ 26.    13.  ]\n",
      " [ 74.    37.  ]\n",
      " [ 50.    16.66]\n",
      " [ 87.    21.75]\n",
      " [498.    49.8 ]\n",
      " [141.    35.25]\n",
      " [382.    29.38]\n",
      " [162.    32.4 ]\n",
      " [ 85.    17.  ]\n",
      " [169.    14.08]\n",
      " [ 29.     9.66]\n",
      " [260.    28.88]\n",
      " [ 60.    60.  ]\n",
      " [ 57.    19.  ]\n",
      " [275.    22.91]\n",
      " [120.    30.  ]\n",
      " [ 49.    12.25]\n",
      " [ 15.     3.  ]\n",
      " [548.    54.8 ]\n",
      " [ 36.    36.  ]\n",
      " [735.    52.5 ]\n",
      " [301.    25.08]\n",
      " [ 24.    24.  ]\n",
      " [133.    19.  ]\n",
      " [126.    14.  ]\n",
      " [228.    22.8 ]\n",
      " [659.    54.91]\n",
      " [ 20.    20.  ]\n",
      " [ 55.    13.75]\n",
      " [252.    25.2 ]\n",
      " [284.    25.81]\n",
      " [ 47.    15.66]\n",
      " [ 99.    24.75]\n",
      " [120.    12.  ]\n",
      " [ 21.    10.5 ]\n",
      " [ 16.     8.  ]\n",
      " [ 77.    19.25]\n",
      " [ 18.     9.  ]\n",
      " [ 25.    12.5 ]\n",
      " [455.    75.83]\n",
      " [304.    23.38]\n",
      " [153.    30.6 ]\n",
      " [ 27.     6.75]\n",
      " [245.    27.22]\n",
      " [201.    25.12]\n",
      " [ 50.    16.66]\n",
      " [226.    25.11]\n",
      " [ 59.    11.8 ]\n",
      " [102.    12.75]\n",
      " [ 89.    17.8 ]\n",
      " [ 29.     7.25]\n",
      " [684.    52.61]\n",
      " [351.    21.93]\n",
      " [286.    23.83]\n",
      " [108.    13.5 ]\n",
      " [441.    31.5 ]\n",
      " [ 51.    10.2 ]\n",
      " [239.    21.72]\n",
      " [555.    39.64]\n",
      " [ 15.    15.  ]\n",
      " [497.    38.23]\n",
      " [ 13.     4.33]\n",
      " [ 52.    17.33]\n",
      " [ 50.    16.66]\n",
      " [411.    37.36]\n",
      " [203.    33.83]\n",
      " [ 44.     8.8 ]\n",
      " [357.    22.31]\n",
      " [445.    37.08]\n",
      " [512.    36.57]\n",
      " [ 52.    26.  ]\n",
      " [ 23.     7.66]\n",
      " [212.    53.  ]\n",
      " [530.    48.18]\n",
      " [ 65.    21.66]\n",
      " [122.    15.25]\n",
      " [260.    28.88]\n",
      " [ 65.    10.83]\n",
      " [  0.     0.  ]\n",
      " [  0.     0.  ]\n",
      " [  0.     0.  ]\n",
      " [  0.     0.  ]\n",
      " [  0.     0.  ]\n",
      " [  0.     0.  ]\n",
      " [  0.     0.  ]\n",
      " [  0.     0.  ]\n",
      " [  0.     0.  ]\n",
      " [  0.     0.  ]\n",
      " [  0.     0.  ]\n",
      " [  0.     0.  ]\n",
      " [  0.     0.  ]\n",
      " [  0.     0.  ]\n",
      " [  0.     0.  ]\n",
      " [  0.     0.  ]\n",
      " [  0.     0.  ]\n",
      " [  0.     0.  ]\n",
      " [  0.     0.  ]\n",
      " [  0.     0.  ]\n",
      " [  0.     0.  ]\n",
      " [  0.     0.  ]\n",
      " [  0.     0.  ]\n",
      " [  0.     0.  ]\n",
      " [  0.     0.  ]\n",
      " [  0.     0.  ]\n",
      " [  0.     0.  ]\n",
      " [  0.     0.  ]\n",
      " [  0.     0.  ]\n",
      " [  0.     0.  ]\n",
      " [  0.     0.  ]\n",
      " [  0.     0.  ]\n",
      " [  0.     0.  ]\n",
      " [  0.     0.  ]\n",
      " [  0.     0.  ]\n",
      " [  0.     0.  ]\n",
      " [  0.     0.  ]\n",
      " [  0.     0.  ]\n",
      " [  0.     0.  ]\n",
      " [  0.     0.  ]\n",
      " [  0.     0.  ]\n",
      " [  0.     0.  ]\n",
      " [  0.     0.  ]]\n"
     ]
    }
   ],
   "source": [
    "x=df.iloc[:,[4,6]].values\n",
    "print(x)"
   ]
  },
  {
   "cell_type": "code",
   "execution_count": 8,
   "metadata": {},
   "outputs": [
    {
     "data": {
      "image/png": "[encoded data removed]",
      "text/plain": [
       "<Figure size 432x288 with 1 Axes>"
      ]
     },
     "metadata": {
      "needs_background": "light"
     },
     "output_type": "display_data"
    }
   ],
   "source": [
    "import pandas\n",
    "import numpy as np\n",
    "import matplotlib.pyplot as pit\n",
    "import pandas as pd\n",
    "from sklearn.cluster import KMeans\n",
    "wcss=[]\n",
    "for i in range(1,11):\n",
    "    kmeans=KMeans(n_clusters=i, init=\"k-means++\", random_state=42)\n",
    "    kmeans.fit(x)\n",
    "    wcss.append(kmeans.inertia_)\n",
    "pit.plot(range(1,11), wcss)\n",
    "pit.title(\"The Elbow Method\")\n",
    "pit.xlabel(\"Number of clusters\")\n",
    "pit.ylabel(\"wcss\")\n",
    "pit.show()"
   ]
  },
  {
   "cell_type": "code",
   "execution_count": 9,
   "metadata": {},
   "outputs": [],
   "source": [
    "kmeans=KMeans(n_clusters=5, init=\"k-means++\", random_state=42)\n",
    "y_kmeans=kmeans.fit_predict(x)"
   ]
  },
  {
   "cell_type": "code",
   "execution_count": 13,
   "metadata": {},
   "outputs": [
    {
     "data": {
      "image/png": "[encoded data removed]",
      "text/plain": [
       "<Figure size 432x288 with 1 Axes>"
      ]
     },
     "metadata": {
      "needs_background": "light"
     },
     "output_type": "display_data"
    }
   ],
   "source": [
    "pit.scatter(x[y_kmeans==0,0],x[y_kmeans==0,1], s=700,c=\"red\", label=\"Bad\")\n",
    "pit.scatter(x[y_kmeans==1,0],x[y_kmeans==1,1], s=700,c=\"blue\", label=\"Good\")\n",
    "pit.scatter(x[y_kmeans==2,0],x[y_kmeans==2,1], s=700,c=\"green\", label=\"Worst\")\n",
    "pit.scatter(x[y_kmeans==3,0],x[y_kmeans==3,1], s=700,c=\"orange\", label=\"Average\")\n",
    "pit.scatter(x[y_kmeans==4,0],x[y_kmeans==4,1], s=700,c=\"black\", label=\"Excellent\")\n",
    "pit.scatter(kmeans.cluster_centers_[:, 0], kmeans.cluster_centers_[:, 1], s = 900, c = 'yellow', label = 'Centroids')\n",
    "pit.title(\"Clusters of Players\")\n",
    "pit.xlabel(\"Runs\")\n",
    "pit.ylabel(\"Batting Average\")\n",
    "pit.legend()\n",
    "pit.show()"
   ]
  },
  {
   "cell_type": "code",
   "execution_count": 12,
   "metadata": {},
   "outputs": [
    {
     "data": {
      "text/plain": [
       "array([0, 1, 0, 3, 0, 4, 3, 2, 0, 0, 3, 2, 0, 0, 3, 1, 2, 2, 0, 0, 2, 0,\n",
       "       2, 0, 2, 0, 1, 0, 1, 0, 0, 0, 2, 3, 0, 2, 3, 0, 2, 2, 1, 2, 4, 3,\n",
       "       2, 0, 0, 3, 4, 2, 2, 3, 3, 2, 0, 0, 2, 2, 0, 2, 2, 1, 3, 0, 2, 3,\n",
       "       3, 2, 3, 2, 0, 0, 2, 4, 3, 3, 0, 1, 2, 3, 1, 2, 1, 2, 2, 2, 1, 3,\n",
       "       2, 3, 1, 1, 2, 2, 3, 1, 0, 0, 3, 0, 2, 2, 2, 2, 2, 2, 2, 2, 2, 2,\n",
       "       2, 2, 2, 2, 2, 2, 2, 2, 2, 2, 2, 2, 2, 2, 2, 2, 2, 2, 2, 2, 2, 2,\n",
       "       2, 2, 2, 2, 2, 2, 2, 2, 2, 2, 2], dtype=int32)"
      ]
     },
     "execution_count": 12,
     "metadata": {},
     "output_type": "execute_result"
    }
   ],
   "source": []
  },
  {
   "cell_type": "code",
   "execution_count": null,
   "metadata": {},
   "outputs": [],
   "source": []
  }
 ],
 "metadata": {
  "kernelspec": {
   "display_name": "Python 3",
   "language": "python",
   "name": "python3"
  },
  "language_info": {
   "codemirror_mode": {
    "name": "ipython",
    "version": 3
   },
   "file_extension": ".py",
   "mimetype": "text/x-python",
   "name": "python",
   "nbconvert_exporter": "python",
   "pygments_lexer": "ipython3",
   "version": "3.8.3"
  }
 },
 "nbformat": 4,
 "nbformat_minor": 4
}
